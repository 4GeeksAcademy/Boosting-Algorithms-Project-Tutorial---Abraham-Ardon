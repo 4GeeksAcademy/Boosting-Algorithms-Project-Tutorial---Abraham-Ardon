{
    "cells": [
        {
            "cell_type": "markdown",
            "metadata": {},
            "source": [
                "# Explore here"
            ]
        },
        {
            "cell_type": "code",
            "execution_count": null,
            "metadata": {},
            "outputs": [
                {
                    "name": "stdout",
                    "output_type": "stream",
                    "text": [
                        "   Pregnancies  Glucose  BloodPressure  SkinThickness  Insulin   BMI  \\\n",
                        "0            6      148             72             35        0  33.6   \n",
                        "1            1       85             66             29        0  26.6   \n",
                        "2            8      183             64              0        0  23.3   \n",
                        "3            1       89             66             23       94  28.1   \n",
                        "4            0      137             40             35      168  43.1   \n",
                        "\n",
                        "   DiabetesPedigreeFunction  Age  Outcome  \n",
                        "0                     0.627   50        1  \n",
                        "1                     0.351   31        0  \n",
                        "2                     0.672   32        1  \n",
                        "3                     0.167   21        0  \n",
                        "4                     2.288   33        1  \n"
                    ]
                }
            ],
            "source": [
                "# Your code here\n",
                "import pandas as pd\n",
                "import seaborn as sns\n",
                "import matplotlib.pyplot as plt\n",
                "from sklearn.model_selection import GridSearchCV\n",
                "from sklearn.ensemble import GradientBoostingClassifier\n",
                "from sklearn.metrics import accuracy_score\n",
                "\n",
                "url = \"https://raw.githubusercontent.com/4GeeksAcademy/decision-tree-project-tutorial/main/diabetes.csv\"\n",
                "\n",
                "data = pd.read_csv(url)\n",
                "\n",
                "print(data.head())\n",
                "\n"
            ]
        },
        {
            "cell_type": "code",
            "execution_count": 4,
            "metadata": {},
            "outputs": [],
            "source": [
                "cols_to_fix = [\"Glucose\", \"BloodPressure\", \"SkinThickness\", \"Insulin\", \"BMI\"]\n",
                "for col in cols_to_fix:\n",
                "    data[col] = data[col].replace(0, data[col].mean())"
            ]
        },
        {
            "cell_type": "code",
            "execution_count": 7,
            "metadata": {},
            "outputs": [],
            "source": [
                "X = data.drop(columns=[\"Outcome\"])\n",
                "y = data[\"Outcome\"]"
            ]
        },
        {
            "cell_type": "code",
            "execution_count": 11,
            "metadata": {},
            "outputs": [],
            "source": [
                "X_train, X_test, y_train, y_test = train_test_split(X, y, test_size=0.2, random_state=42)"
            ]
        },
        {
            "cell_type": "code",
            "execution_count": 14,
            "metadata": {},
            "outputs": [
                {
                    "name": "stdout",
                    "output_type": "stream",
                    "text": [
                        "Boosting Accuracy: 0.7662337662337663\n"
                    ]
                }
            ],
            "source": [
                "boost = GradientBoostingClassifier(random_state=42)\n",
                "boost.fit(X_train, y_train)\n",
                "\n",
                "y_pred = boost.predict(X_test)\n",
                "print(\"Boosting Accuracy:\", accuracy_score(y_test, y_pred))"
            ]
        },
        {
            "cell_type": "code",
            "execution_count": null,
            "metadata": {},
            "outputs": [
                {
                    "name": "stdout",
                    "output_type": "stream",
                    "text": [
                        "Model 1 Accuracy: 0.7727\n",
                        "Model 2 Accuracy: 0.7403\n",
                        "Model 3 Accuracy: 0.7338\n",
                        "Model 4 Accuracy: 0.7273\n"
                    ]
                }
            ],
            "source": [
                "models = [\n",
                "    GradientBoostingClassifier(n_estimators=50, learning_rate=0.1, max_depth=3, random_state=42),\n",
                "    GradientBoostingClassifier(n_estimators=100, learning_rate=0.05, max_depth=4, random_state=42),\n",
                "    GradientBoostingClassifier(n_estimators=150, learning_rate=0.1, max_depth=2, random_state=42),\n",
                "    GradientBoostingClassifier(n_estimators=300, learning_rate=0.7, max_depth=5, random_state=42)\n",
                "]\n",
                "\n",
                "accuracies = []\n",
                "\n",
                "for i, model in enumerate(models, start=1):\n",
                "    model.fit(X_train, y_train)\n",
                "    y_pred = model.predict(X_test)\n",
                "    acc = accuracy_score(y_test, y_pred)\n",
                "    accuracies.append(acc)\n",
                "    print(f\"Model {i} Accuracy: {acc:.4f}\")"
            ]
        },
        {
            "cell_type": "code",
            "execution_count": 30,
            "metadata": {},
            "outputs": [
                {
                    "data": {
                        "image/png": "[encoded data removed]",
                        "text/plain": [
                            "<Figure size 640x480 with 1 Axes>"
                        ]
                    },
                    "metadata": {},
                    "output_type": "display_data"
                }
            ],
            "source": [
                "plt.bar(range(1, len(accuracies) + 1), accuracies, color=\"blue\")\n",
                "plt.xticks(range(1, len(accuracies) + 1), [f\"Model {i}\" for i in range(1, len(accuracies) + 1)])\n",
                "plt.ylabel(\"Accuracy\")\n",
                "plt.title(\"Boosting Model Accuracy Comparison\")\n",
                "plt.ylim(0.5, 1)\n",
                "plt.show()"
            ]
        },
        {
            "cell_type": "code",
            "execution_count": 18,
            "metadata": {},
            "outputs": [
                {
                    "data": {
                        "text/plain": [
                            "['boosting_diabetes_model.pkl']"
                        ]
                    },
                    "execution_count": 18,
                    "metadata": {},
                    "output_type": "execute_result"
                }
            ],
            "source": [
                "import joblib\n",
                "joblib.dump(models[accuracies.index(max(accuracies))], \"boosting_diabetes_model.pkl\")"
            ]
        },
        {
            "cell_type": "code",
            "execution_count": 23,
            "metadata": {},
            "outputs": [
                {
                    "name": "stdout",
                    "output_type": "stream",
                    "text": [
                        "Best parameters: {'learning_rate': 0.05, 'max_depth': 3, 'n_estimators': 100}\n",
                        "Best cross-validated accuracy: 0.7818206050912968\n"
                    ]
                }
            ],
            "source": [
                "param_grid = {\n",
                "    \"n_estimators\": [50, 100, 150],\n",
                "    \"learning_rate\": [0.05, 0.1],\n",
                "    \"max_depth\": [2, 3, 4]\n",
                "}\n",
                "\n",
                "\n",
                "boost = GradientBoostingClassifier(random_state=42)\n",
                "grid = GridSearchCV(boost, param_grid, cv=5, scoring=\"accuracy\", n_jobs=-1)\n",
                "grid.fit(X_train, y_train)\n",
                "\n",
                "print(\"Best parameters:\", grid.best_params_)\n",
                "print(\"Best cross-validated accuracy:\", grid.best_score_)"
            ]
        },
        {
            "cell_type": "code",
            "execution_count": 24,
            "metadata": {},
            "outputs": [
                {
                    "name": "stdout",
                    "output_type": "stream",
                    "text": [
                        "Test set accuracy: 0.7727272727272727\n"
                    ]
                }
            ],
            "source": [
                "best_boost = grid.best_estimator_\n",
                "y_pred = best_boost.predict(X_test)\n",
                "\n",
                "print(\"Test set accuracy:\", accuracy_score(y_test, y_pred))"
            ]
        },
        {
            "cell_type": "code",
            "execution_count": 31,
            "metadata": {},
            "outputs": [
                {
                    "data": {
                        "image/png": "[encoded data removed]",
                        "text/plain": [
                            "<Figure size 640x480 with 2 Axes>"
                        ]
                    },
                    "metadata": {},
                    "output_type": "display_data"
                }
            ],
            "source": [
                "from sklearn.metrics import confusion_matrix, ConfusionMatrixDisplay\n",
                "import matplotlib.pyplot as plt\n",
                "\n",
                "cm = confusion_matrix(y_test, y_pred)\n",
                "disp = ConfusionMatrixDisplay(confusion_matrix=cm, display_labels=[\"No Diabetes\", \"Diabetes\"])\n",
                "disp.plot(cmap=\"Greens\")\n",
                "plt.title(\"Confusion Matrix - Boosting Model\")\n",
                "plt.show()"
            ]
        },
        {
            "cell_type": "code",
            "execution_count": 32,
            "metadata": {},
            "outputs": [
                {
                    "data": {
                        "text/plain": [
                            "60     0\n",
                            "618    1\n",
                            "346    0\n",
                            "294    0\n",
                            "231    1\n",
                            "      ..\n",
                            "71     0\n",
                            "106    0\n",
                            "270    1\n",
                            "435    1\n",
                            "102    0\n",
                            "Name: Outcome, Length: 614, dtype: int64"
                        ]
                    },
                    "execution_count": 32,
                    "metadata": {},
                    "output_type": "execute_result"
                }
            ],
            "source": [
                "X_train\n",
                "y_train"
            ]
        },
        {
            "cell_type": "code",
            "execution_count": null,
            "metadata": {},
            "outputs": [],
            "source": [
                "# Not sure if i mandatory needed to use XGboost -  I used GradientBoostingClassifier\n",
                "\n"
            ]
        }
    ],
    "metadata": {
        "kernelspec": {
            "display_name": "Python 3",
            "language": "python",
            "name": "python3"
        },
        "language_info": {
            "codemirror_mode": {
                "name": "ipython",
                "version": 3
            },
            "file_extension": ".py",
            "mimetype": "text/x-python",
            "name": "python",
            "nbconvert_exporter": "python",
            "pygments_lexer": "ipython3",
            "version": "3.11.4"
        },
        "orig_nbformat": 4
    },
    "nbformat": 4,
    "nbformat_minor": 2
}
